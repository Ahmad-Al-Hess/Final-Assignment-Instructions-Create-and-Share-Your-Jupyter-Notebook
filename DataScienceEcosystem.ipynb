{
 "cells": [
  {
   "cell_type": "markdown",
   "id": "9fcddc5e-952c-43da-92fe-fc81b19728b0",
   "metadata": {},
   "source": [
    "# Data Science Tools and Ecosystem"
   ]
  },
  {
   "cell_type": "markdown",
   "id": "dffd6a63-9f0b-471e-abdb-4240340df7c8",
   "metadata": {},
   "source": [
    " In this notebook, Data Science Tools and Ecosystem are summarized."
   ]
  },
  {
   "cell_type": "markdown",
   "id": "d7365739-cce6-4d0e-bce2-3d21b1002c2b",
   "metadata": {},
   "source": [
    "Some of the popular languages that Data Scientists use are:\n",
    "\n",
    "1. Python\n",
    "2. R\n",
    "3. SQL\n",
    "4. Julia\n",
    "5. Scala\n",
    "6. SAS\n",
    "7. Java\n",
    "\n"
   ]
  },
  {
   "cell_type": "markdown",
   "id": "1891aa6f-c849-4275-9d28-69aafc9a7dea",
   "metadata": {},
   "source": [
    "Some of the commonly used libraries used by Data Scientists include:\n",
    "\n",
    "1. Pandas\n",
    "2. NumPy\n",
    "3. Scikit-learn\n",
    "4. TensorFlow\n"
   ]
  },
  {
   "cell_type": "markdown",
   "id": "7b47c15d-b4e5-42dc-8e5b-a017f04655af",
   "metadata": {},
   "source": [
    "| Data Science Tools   |\n",
    "| -------------------- |\n",
    "| Jupyter Notebook     |\n",
    "| RStudio              |\n",
    "| Hadoop   |\n",
    "| PyCharm              |\n",
    "| Spyder               |\n",
    "| IBM Watson Studio    |\n",
    "| Google Colab         |\n",
    "| Anaconda Navigator   |      \n",
    "| MongoDB              |\n"
   ]
  },
  {
   "cell_type": "markdown",
   "id": "b88e2a9b-9264-4323-86d3-40973a4d358c",
   "metadata": {},
   "source": [
    "### Below are a few examples of evaluating arithmetic expressions in Python"
   ]
  },
  {
   "cell_type": "code",
   "execution_count": 10,
   "id": "136e5abf-99ed-4e95-a4e4-b6e21960e3e5",
   "metadata": {
    "tags": []
   },
   "outputs": [
    {
     "data": {
      "text/plain": [
       "17"
      ]
     },
     "execution_count": 10,
     "metadata": {},
     "output_type": "execute_result"
    }
   ],
   "source": [
    "# This is a simple arithmetic expression to multiply then add integers.\n",
    "result = (3 * 4) + 5\n",
    "result"
   ]
  },
  {
   "cell_type": "code",
   "execution_count": 11,
   "id": "f904e920-5a7a-460f-bfe7-d8655aee00a3",
   "metadata": {
    "tags": []
   },
   "outputs": [
    {
     "data": {
      "text/plain": [
       "3.3333333333333335"
      ]
     },
     "execution_count": 11,
     "metadata": {},
     "output_type": "execute_result"
    }
   ],
   "source": [
    "# This will convert 200 minutes to hours by dividing by 60.\n",
    "minutes = 200\n",
    "hours = minutes / 60\n",
    "hours\n"
   ]
  },
  {
   "cell_type": "markdown",
   "id": "d320bd78-8011-49b5-8e07-6c2016173c8e",
   "metadata": {},
   "source": [
    "**Objectives:**\n",
    "\n",
    "- List popular languages for Data Science\n",
    "- Introduce common data science libraries\n",
    "- Explore data science tools and development environments\n",
    "- Demonstrate arithmetic operations in Python\n",
    "- Convert units of time in Python\n"
   ]
  },
  {
   "cell_type": "markdown",
   "id": "dddbf007-6135-40ec-b91e-b2f958ff0b17",
   "metadata": {},
   "source": [
    "## Author\n",
    "Ahmad Al Hess\n"
   ]
  },
  {
   "cell_type": "markdown",
   "id": "419a4e90-5c50-400a-ba6f-6e80dd18d213",
   "metadata": {},
   "source": [
    "[Link to the Final Assignment Repository](https://github.com/Ahmad-Al-Hess/Final-Assignment-Instructions-Create-and-Share-Your-Jupyter-Notebook)\n"
   ]
  }
 ],
 "metadata": {
  "kernelspec": {
   "display_name": "Python 3 (ipykernel)",
   "language": "python",
   "name": "python3"
  },
  "language_info": {
   "codemirror_mode": {
    "name": "ipython",
    "version": 3
   },
   "file_extension": ".py",
   "mimetype": "text/x-python",
   "name": "python",
   "nbconvert_exporter": "python",
   "pygments_lexer": "ipython3",
   "version": "3.11.5"
  }
 },
 "nbformat": 4,
 "nbformat_minor": 5
}
